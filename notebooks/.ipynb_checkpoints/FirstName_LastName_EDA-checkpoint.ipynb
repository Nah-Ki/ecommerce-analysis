{
 "cells": [
  {
   "cell_type": "code",
   "execution_count": null,
   "id": "5224a500-a31c-47bc-ac2d-6b1dde4bed29",
   "metadata": {},
   "outputs": [],
   "source": [
    "# Import necessary libraries\n",
    "import pandas as pd\n",
    "import numpy as np\n",
    "import matplotlib.pyplot as plt\n",
    "import seaborn as sns\n",
    "\n",
    "# Load datasets\n",
    "customers = pd.read_csv('Customers.csv')\n",
    "products = pd.read_csv('Products.csv')\n",
    "transactions = pd.read_csv('Transactions.csv')\n",
    "\n",
    "# Inspect datasets\n",
    "print(customers.info())\n",
    "print(products.info())\n",
    "print(transactions.info())\n",
    "\n",
    "# Clean data (example: handling missing values)\n",
    "customers['SignupDate'] = pd.to_datetime(customers['SignupDate'])\n",
    "transactions['TransactionDate'] = pd.to_datetime(transactions['TransactionDate'])\n",
    "\n",
    "# Merge datasets\n",
    "merged_data = pd.merge(transactions, customers, on='CustomerID')\n",
    "merged_data = pd.merge(merged_data, products, on='ProductID')\n",
    "\n",
    "# Example analysis: Revenue by region\n",
    "region_revenue = merged_data.groupby('Region')['TotalValue'].sum().sort_values(ascending=False)\n",
    "print(region_revenue)\n",
    "\n",
    "# Visualization\n",
    "plt.figure(figsize=(10, 6))\n",
    "region_revenue.plot(kind='bar', color='skyblue')\n",
    "plt.title('Revenue by Region')\n",
    "plt.ylabel('Revenue (USD)')\n",
    "plt.xlabel('Region')\n",
    "plt.show()\n",
    "\n",
    "# Example insight\n",
    "print(\"Insight: Region X contributes the highest revenue, suggesting targeted marketing efforts there.\")\n"
   ]
  }
 ],
 "metadata": {
  "kernelspec": {
   "display_name": "Python 3 (ipykernel)",
   "language": "python",
   "name": "python3"
  },
  "language_info": {
   "codemirror_mode": {
    "name": "ipython",
    "version": 3
   },
   "file_extension": ".py",
   "mimetype": "text/x-python",
   "name": "python",
   "nbconvert_exporter": "python",
   "pygments_lexer": "ipython3",
   "version": "3.12.8"
  }
 },
 "nbformat": 4,
 "nbformat_minor": 5
}
