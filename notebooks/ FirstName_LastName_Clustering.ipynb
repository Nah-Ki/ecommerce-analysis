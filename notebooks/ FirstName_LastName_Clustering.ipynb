{
 "cells": [
  {
   "cell_type": "code",
   "execution_count": 3,
   "id": "f57df5e4-97e6-44f6-b487-f507e016d3fe",
   "metadata": {},
   "outputs": [
    {
     "name": "stdout",
     "output_type": "stream",
     "text": [
      "Customers DataFrame columns: Index(['CustomerID', 'CustomerName', 'Region', 'SignupDate'], dtype='object')\n",
      "Products DataFrame columns: Index(['ProductID', 'ProductName', 'Category', 'Price'], dtype='object')\n",
      "Transactions DataFrame columns: Index(['TransactionID', 'CustomerID', 'ProductID', 'TransactionDate',\n",
      "       'Quantity', 'TotalValue', 'Price'],\n",
      "      dtype='object')\n",
      "Merged DataFrame columns: Index(['TransactionID', 'CustomerID', 'ProductID', 'TransactionDate',\n",
      "       'Quantity', 'TotalValue', 'Price_x', 'CustomerName', 'Region',\n",
      "       'SignupDate', 'ProductName', 'Category', 'Price_y'],\n",
      "      dtype='object')\n",
      "Missing columns in merged DataFrame: ['Price']\n"
     ]
    }
   ],
   "source": [
    "import pandas as pd\n",
    "import matplotlib.pyplot as plt\n",
    "import seaborn as sns\n",
    "import os\n",
    "from sklearn.preprocessing import StandardScaler\n",
    "from sklearn.cluster import KMeans\n",
    "from sklearn.metrics import davies_bouldin_score\n",
    "from fpdf import FPDF\n",
    "\n",
    "# Ensure the outputs directory exists\n",
    "output_dir = '../outputs'\n",
    "os.makedirs(output_dir, exist_ok=True)\n",
    "\n",
    "# Load the datasets\n",
    "customers_df = pd.read_csv('../data/Customers.csv')\n",
    "products_df = pd.read_csv('../data/Products.csv')\n",
    "transactions_df = pd.read_csv('../data/Transactions.csv')\n",
    "\n",
    "# Check columns of each DataFrame\n",
    "print(\"Customers DataFrame columns:\", customers_df.columns)\n",
    "print(\"Products DataFrame columns:\", products_df.columns)\n",
    "print(\"Transactions DataFrame columns:\", transactions_df.columns)\n",
    "\n",
    "# Merge datasets\n",
    "merged_df = transactions_df.merge(customers_df, on='CustomerID').merge(products_df, on='ProductID')\n",
    "\n",
    "# Check columns of the merged DataFrame\n",
    "print(\"Merged DataFrame columns:\", merged_df.columns)\n",
    "\n",
    "# Feature engineering and scaling\n",
    "# Ensure the column names exist in the merged DataFrame\n",
    "required_columns = ['Price', 'Quantity', 'TotalValue']\n",
    "missing_columns = [col for col in required_columns if col not in merged_df.columns]\n",
    "if missing_columns:\n",
    "    print(f\"Missing columns in merged DataFrame: {missing_columns}\")\n",
    "else:\n",
    "    features = merged_df[required_columns]\n",
    "    scaler = StandardScaler()\n",
    "    scaled_features = scaler.fit_transform(features)\n",
    "\n",
    "    # Clustering\n",
    "    kmeans = KMeans(n_clusters=5)\n",
    "    clusters = kmeans.fit_predict(scaled_features)\n",
    "    merged_df['Cluster'] = clusters\n",
    "\n",
    "    # Evaluation\n",
    "    db_index = davies_bouldin_score(scaled_features, clusters)\n",
    "    print(f'Davies-Bouldin Index: {db_index}')\n",
    "\n",
    "    # Visualize clusters\n",
    "    plt.scatter(scaled_features[:, 0], scaled_features[:, 1], c=clusters, cmap='viridis')\n",
    "    plt.xlabel('Feature1')\n",
    "    plt.ylabel('Feature2')\n",
    "    plt.title('Customer Segments')\n",
    "    plt.savefig(os.path.join(output_dir, 'customer_segments.png'))\n",
    "    plt.show()\n",
    "\n",
    "    # Save the clustering report to a PDF\n",
    "    pdf = FPDF()\n",
    "    pdf.add_page()\n",
    "    pdf.set_font(\"Arial\", size=12)\n",
    "    pdf.cell(200, 10, txt=\"Clustering Report\", ln=True, align='C')\n",
    "    pdf.cell(200, 10, txt=f\"Davies-Bouldin Index: {db_index}\", ln=True, align='L')\n",
    "    \n",
    "    # Save the PDF\n",
    "    pdf_output_path = os.path.join(output_dir, \"FirstName_LastName_Clustering.pdf\")\n",
    "    pdf.output(pdf_output_path)\n",
    "    print(f\"PDF saved to {pdf_output_path}\")"
   ]
  },
  {
   "cell_type": "code",
   "execution_count": null,
   "id": "f99966f4-bbd7-46ce-ad12-bde6926e6e2b",
   "metadata": {},
   "outputs": [],
   "source": []
  }
 ],
 "metadata": {
  "kernelspec": {
   "display_name": "Python 3 (ipykernel)",
   "language": "python",
   "name": "python3"
  },
  "language_info": {
   "codemirror_mode": {
    "name": "ipython",
    "version": 3
   },
   "file_extension": ".py",
   "mimetype": "text/x-python",
   "name": "python",
   "nbconvert_exporter": "python",
   "pygments_lexer": "ipython3",
   "version": "3.12.8"
  }
 },
 "nbformat": 4,
 "nbformat_minor": 5
}
